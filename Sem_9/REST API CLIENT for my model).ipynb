{
 "cells": [
  {
   "cell_type": "code",
   "execution_count": 5,
   "metadata": {},
   "outputs": [
    {
     "name": "stdout",
     "output_type": "stream",
     "text": [
      "<Response [200]> \"[0 0]\"\n",
      "\n"
     ]
    }
   ],
   "source": [
    "# Import necessary libraries for HTTP requests and JSON handling\n",
    "import requests\n",
    "import json\n",
    "\n",
    "# Define the URL of the prediction endpoint\n",
    "url = 'http://127.0.0.1:7766/predict'\n",
    "\n",
    "# Input data: two feature vectors to classify\n",
    "data = [[-1, 0], [-1, 0]]\n",
    "\n",
    "# Convert the data to a JSON-formatted string\n",
    "j_data = json.dumps(data)\n",
    "\n",
    "# Set HTTP headers to specify JSON content\n",
    "headers = {'content-type': 'application/json', 'Accept-Charset': 'UTF-8'}\n",
    "\n",
    "# Send a POST request to the prediction endpoint with the input data and headers\n",
    "r = requests.post(url, data=j_data, headers=headers)\n",
    "\n",
    "# Print the response status code and content returned by the server\n",
    "print(r, r.text)"
   ]
  },
  {
   "cell_type": "code",
   "execution_count": null,
   "metadata": {},
   "outputs": [],
   "source": []
  }
 ],
 "metadata": {
  "kernelspec": {
   "display_name": ".venv",
   "language": "python",
   "name": "python3"
  },
  "language_info": {
   "codemirror_mode": {
    "name": "ipython",
    "version": 3
   },
   "file_extension": ".py",
   "mimetype": "text/x-python",
   "name": "python",
   "nbconvert_exporter": "python",
   "pygments_lexer": "ipython3",
   "version": "3.12.6"
  }
 },
 "nbformat": 4,
 "nbformat_minor": 2
}
