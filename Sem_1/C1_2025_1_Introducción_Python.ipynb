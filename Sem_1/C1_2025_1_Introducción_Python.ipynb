{
  "nbformat": 4,
  "nbformat_minor": 0,
  "metadata": {
    "kernelspec": {
      "display_name": "p37",
      "language": "python",
      "name": "python3"
    },
    "language_info": {
      "codemirror_mode": {
        "name": "ipython",
        "version": 3
      },
      "file_extension": ".py",
      "mimetype": "text/x-python",
      "name": "python",
      "nbconvert_exporter": "python",
      "pygments_lexer": "ipython3",
      "version": "3.7.3"
    },
    "toc": {
      "toc_cell": false,
      "toc_number_sections": true,
      "toc_threshold": 6,
      "toc_window_display": false
    },
    "colab": {
      "provenance": []
    }
  },
  "cells": [
    {
      "cell_type": "markdown",
      "metadata": {
        "id": "cnF7MoOxyL86"
      },
      "source": [
        "#**Introducción a Python**"
      ]
    },
    {
      "cell_type": "markdown",
      "metadata": {
        "id": "4Rh31tACyL88"
      },
      "source": [
        "## **Asignación automatica de tipos de variables**"
      ]
    },
    {
      "cell_type": "markdown",
      "metadata": {
        "id": "IqzuJsegyL89"
      },
      "source": [
        "En Python no es necesario declarar explícitamente el tipo de las variables. El intérprete trata de inferir el tipo de las variables según se usan. Igualmente, las operaciones tienen semántica distinta para distintos tipos de datos. Fíjate en el ejemplo siguiente. ¿Por qué el resultado de las dos últimas divisiones no es el mismo?"
      ]
    },
    {
      "cell_type": "code",
      "metadata": {
        "id": "EnGrDOuCyL8-",
        "outputId": "eb623495-f9b3-4efd-8c0a-968819cad56f",
        "colab": {
          "base_uri": "https://localhost:8080/"
        }
      },
      "source": [
        "a = 10\n",
        "b = 3\n",
        "c = 3.1\n",
        "d = \"hola\"\n",
        "print (type(a), type(b), type(c), type(d))"
      ],
      "execution_count": null,
      "outputs": [
        {
          "output_type": "stream",
          "name": "stdout",
          "text": [
            "<class 'int'> <class 'int'> <class 'float'> <class 'str'>\n"
          ]
        }
      ]
    },
    {
      "cell_type": "markdown",
      "source": [
        "Sin embargo, a partir de **Python 3.5**, *puedes usar las \"Annotations\" (**anotaciones**) de tipo para indicar el tipo esperado de una variable*. Aunque estas anotaciones no afectan el comportamiento real del programa, pueden ser útiles para proporcionar información sobre los tipos de variables a otros programadores o herramientas de análisis estático de código."
      ],
      "metadata": {
        "id": "xSe2rsudGtn9"
      }
    },
    {
      "cell_type": "code",
      "source": [
        "# Para determinar la version de python usada en colab\n",
        "!python --version"
      ],
      "metadata": {
        "colab": {
          "base_uri": "https://localhost:8080/"
        },
        "id": "IyqBD7lnGrdu",
        "outputId": "64555f73-cbe3-41cd-8f7c-d436215fb190"
      },
      "execution_count": null,
      "outputs": [
        {
          "output_type": "stream",
          "name": "stdout",
          "text": [
            "Python 3.10.12\n"
          ]
        }
      ]
    },
    {
      "cell_type": "code",
      "source": [
        "# Anotación de tipo en una variable\n",
        "c: int = 42\n",
        "d: str = \"Ejemplo\"\n",
        "print (type(c), type(d))"
      ],
      "metadata": {
        "colab": {
          "base_uri": "https://localhost:8080/"
        },
        "id": "AJtzdYrdHpSW",
        "outputId": "2209227a-42b2-4860-fd83-e9358e59a86c"
      },
      "execution_count": null,
      "outputs": [
        {
          "output_type": "stream",
          "name": "stdout",
          "text": [
            "<class 'int'> <class 'str'>\n"
          ]
        }
      ]
    },
    {
      "cell_type": "code",
      "source": [
        "# Anotación de tipo en una variable\n",
        "a: int =4\n",
        "b: int =5\n",
        "resultado: int = (a+b)\n",
        "print(resultado)"
      ],
      "metadata": {
        "colab": {
          "base_uri": "https://localhost:8080/"
        },
        "id": "Re3ibUBxIEzd",
        "outputId": "72290cf0-72bb-4b6d-8196-08b9a2c68ba9"
      },
      "execution_count": null,
      "outputs": [
        {
          "output_type": "stream",
          "name": "stdout",
          "text": [
            "9\n"
          ]
        }
      ]
    },
    {
      "cell_type": "code",
      "source": [
        "#Es importante saber el tipo de dato, dado que este establece qué valores puede tomar una variable\n",
        "# y qué operaciones se pueden realizar sobre la misma.\n",
        "a = 10\n",
        "b = 3\n",
        "c = 3.1\n",
        "d = \"hola\"\n",
        "print (\"a =\",a,\"; b =\",b, \"; c =\",c)\n",
        "print (\"a/b =\", a/b)\n",
        "print (\"a/c =\", a/c)\n",
        "print (\"a/b =\", a//b)\n",
        "print (\"a/c =\", a//c)"
      ],
      "metadata": {
        "id": "uw9LVaXLGdT6",
        "colab": {
          "base_uri": "https://localhost:8080/"
        },
        "outputId": "31406051-5e89-4102-ec73-d6cc37870616"
      },
      "execution_count": null,
      "outputs": [
        {
          "output_type": "stream",
          "name": "stdout",
          "text": [
            "a = 10 ; b = 3 ; c = 3.1\n",
            "a/b = 3.3333333333333335\n",
            "a/c = 3.225806451612903\n",
            "a/b = 3\n",
            "a/c = 3.0\n"
          ]
        }
      ]
    },
    {
      "cell_type": "markdown",
      "metadata": {
        "id": "_QAVY-RryL-v"
      },
      "source": [
        "#**Tipos de Datos**"
      ]
    },
    {
      "cell_type": "markdown",
      "source": [
        "## **Números enteros**\n",
        "* El tipo de los números enteros es int.\n",
        "* Este tipo de dato comprende el conjunto de todos los números enteros, pero como dicho conjunto es infinito, en Python el conjunto está limitado realmente por la *capacidad de la memoria disponible*. No hay un límite de representación impuesto por el lenguaje.\n",
        "* Pero tranquilidad, que para el 99% de los programas que desarrolles tendrás suficiente con el subconjunto que puedes representar."
      ],
      "metadata": {
        "id": "vg2M0njaRpRm"
      }
    },
    {
      "cell_type": "code",
      "source": [
        "a = -1          # a es de tipo int y su valor es -1\n",
        "b = a + 2    # b es de tipo int y su valor es 1\n",
        "print(b)"
      ],
      "metadata": {
        "colab": {
          "base_uri": "https://localhost:8080/"
        },
        "id": "DKhkV3uHRohQ",
        "outputId": "0931f0b7-f0d9-4153-a29a-21260e282a15"
      },
      "execution_count": null,
      "outputs": [
        {
          "output_type": "stream",
          "name": "stdout",
          "text": [
            "1\n"
          ]
        }
      ]
    },
    {
      "cell_type": "markdown",
      "source": [
        "También podemos representar los números enteros en formato binario, octal o hexadecimal."
      ],
      "metadata": {
        "id": "FIDGD3lWSXkP"
      }
    },
    {
      "cell_type": "code",
      "source": [
        "diez = 10\n",
        "diez_binario = 0b1010\n",
        "diez_octal = 0o12\n",
        "diez_hex = 0xa\n",
        "\n",
        "#Al realizar la impresion los convierte a enteros si quedemos verlos en otros formato debemos usar funciones\n",
        "print(diez)\n",
        "print(diez_binario)\n",
        "print(diez_octal)\n",
        "print(diez_hex)\n",
        "\n",
        "# Usando Funciones de conversion podemos ver otros formatos\n",
        "print(bin(10))\n",
        "print(oct(10))\n",
        "print(hex(10))"
      ],
      "metadata": {
        "colab": {
          "base_uri": "https://localhost:8080/"
        },
        "id": "eTZyVaCwSWl3",
        "outputId": "786367e9-7343-4444-fce1-ead8608584da"
      },
      "execution_count": null,
      "outputs": [
        {
          "output_type": "stream",
          "name": "stdout",
          "text": [
            "10\n",
            "10\n",
            "10\n",
            "10\n",
            "0b1010\n",
            "0o12\n",
            "0xa\n"
          ]
        }
      ]
    },
    {
      "cell_type": "markdown",
      "metadata": {
        "id": "kYkZjI9xyL-v"
      },
      "source": [
        "Fíjate cómo las siguientes expresiones son equivalentes:"
      ]
    },
    {
      "cell_type": "code",
      "metadata": {
        "id": "07v8ECyPyL-v",
        "outputId": "a47b977c-8773-4ca7-e25b-695d8405abd4"
      },
      "source": [
        "a=15\n",
        "if a > 10:\n",
        "    s = \"mayor que 10\"\n",
        "else:\n",
        "    s = \"menor que 10\"\n",
        "\n",
        "print(s)"
      ],
      "execution_count": null,
      "outputs": [
        {
          "output_type": "stream",
          "text": [
            "mayor que 10\n"
          ],
          "name": "stdout"
        }
      ]
    },
    {
      "cell_type": "code",
      "metadata": {
        "id": "wCHqbkqHyL-y",
        "outputId": "1d24384a-f467-448d-e6ad-dcadb17f0b79"
      },
      "source": [
        "a = 5\n",
        "s = \"mayor que 10\" if a > 10 else \"menor que 10\"\n",
        "print(s)"
      ],
      "execution_count": null,
      "outputs": [
        {
          "output_type": "stream",
          "text": [
            "menor que 10\n"
          ],
          "name": "stdout"
        }
      ]
    },
    {
      "cell_type": "markdown",
      "source": [
        "##**Booleanos**"
      ],
      "metadata": {
        "id": "kouPWa6xU4pP"
      }
    },
    {
      "cell_type": "code",
      "source": [
        "# Conjunción AND\n",
        "\n",
        "print(True and True)\n",
        "\n",
        "print(True and False)\n",
        "\n",
        "print(False and True)\n",
        "\n",
        "print(False and False)\n",
        "print()\n",
        "\n",
        "# Disyunción OR\n",
        "\n",
        "print(True or True)\n",
        "\n",
        "print(True or False)\n",
        "\n",
        "print(False or True)\n",
        "\n",
        "print(False or False)\n"
      ],
      "metadata": {
        "colab": {
          "base_uri": "https://localhost:8080/"
        },
        "id": "jabKrNIQUtkS",
        "outputId": "67abbd5e-e208-4429-e8c9-77ba4318dd8b"
      },
      "execution_count": null,
      "outputs": [
        {
          "output_type": "stream",
          "name": "stdout",
          "text": [
            "True\n",
            "False\n",
            "False\n",
            "False\n",
            "\n",
            "True\n",
            "True\n",
            "True\n",
            "False\n"
          ]
        }
      ]
    },
    {
      "cell_type": "markdown",
      "source": [
        "##**Cadena de Caracteres** (*string*) **STR**"
      ],
      "metadata": {
        "id": "ryC_gi-CVuPg"
      }
    },
    {
      "cell_type": "code",
      "source": [
        "hola = 'Hola \"Pythonista\"'\n",
        "hola_2 = 'Hola \\'Pythonista\\' '\n",
        "hola_3 = \"Hola 'Pythonista' \"\n",
        "print(hola)\n",
        "print(hola_2)\n",
        "print(hola_3)\n",
        "type(hola_3)"
      ],
      "metadata": {
        "colab": {
          "base_uri": "https://localhost:8080/"
        },
        "id": "uUW0hkbKV5z4",
        "outputId": "5410eb9f-c51a-4bdb-a92b-d0c2faacc5ec"
      },
      "execution_count": null,
      "outputs": [
        {
          "output_type": "stream",
          "name": "stdout",
          "text": [
            "Hola \"Pythonista\"\n",
            "Hola 'Pythonista' \n",
            "Hola 'Pythonista' \n"
          ]
        },
        {
          "output_type": "execute_result",
          "data": {
            "text/plain": [
              "str"
            ]
          },
          "metadata": {},
          "execution_count": 35
        }
      ]
    },
    {
      "cell_type": "markdown",
      "source": [
        "##**Conocer el tipo de una variable**\n",
        "\n",
        "Para conocer el tipo de variable se tienen dos funciones para que puedas jugar con todo lo que hemos visto en este tutorial.\n",
        "Son **type()** e **isinstance()**\n"
      ],
      "metadata": {
        "id": "pBVApEuIWVnB"
      }
    },
    {
      "cell_type": "code",
      "source": [
        "print(type(3))\n",
        "print(type(2.78))\n",
        "print(type('Hola'))\n",
        "\n",
        "print(isinstance(3, float))\n",
        "print(isinstance(3, int))\n",
        "print(isinstance(3, bool))\n",
        "print(isinstance(False, bool))"
      ],
      "metadata": {
        "colab": {
          "base_uri": "https://localhost:8080/"
        },
        "id": "kdnxC41gWsC1",
        "outputId": "8811c0ec-8e14-474e-de32-7e89064a0461"
      },
      "execution_count": null,
      "outputs": [
        {
          "output_type": "stream",
          "name": "stdout",
          "text": [
            "<class 'int'>\n",
            "<class 'float'>\n",
            "<class 'str'>\n",
            "False\n",
            "True\n",
            "False\n",
            "True\n"
          ]
        }
      ]
    },
    {
      "cell_type": "markdown",
      "source": [
        "##**Conversión de tipos**\n",
        "Cuando el tipo de datos es errado los podemos convertir a otro tipo mediante las siguientes funciones.\n",
        "\n",
        "* int(x, base)\n",
        "* bin(x)\n",
        "* hex(x)\n",
        "* oct(x)\n",
        "* float(x)\n",
        "* str(x)\n",
        "* ord(x)\n",
        "* chr()"
      ],
      "metadata": {
        "id": "DyBuCubuXIDN"
      }
    },
    {
      "cell_type": "code",
      "source": [
        "print(int(\"1010\", 2))\n",
        "print(bin(42))\n",
        "print(hex(255))\n",
        "print(oct(64))\n",
        "print(float(\"3.14\"))\n",
        "print(str(123))\n",
        "print()\n",
        "\n",
        "caracter = 'A'\n",
        "print(ord(caracter))\n",
        "\n",
        "valor_unicode = 65\n",
        "print(chr(valor_unicode))"
      ],
      "metadata": {
        "colab": {
          "base_uri": "https://localhost:8080/"
        },
        "id": "TtQuoQ_IXXKr",
        "outputId": "7390ef05-adf6-465a-853d-41fa2fb61f96"
      },
      "execution_count": null,
      "outputs": [
        {
          "output_type": "stream",
          "name": "stdout",
          "text": [
            "10\n",
            "0b101010\n",
            "0xff\n",
            "0o100\n",
            "3.14\n",
            "123\n",
            "\n",
            "65\n",
            "A\n"
          ]
        }
      ]
    },
    {
      "cell_type": "markdown",
      "metadata": {
        "id": "SY9OVtb7yL9C"
      },
      "source": [
        "## **Listas**\n",
        "* Otro tipo muy importante de secuencia son las listas.\n",
        "* Entre las secuencias, el más versátil, es la lista, para definir una, usted debe escribir es entre corchetes, separando sus elementos con comas cada uno.\n"
      ]
    },
    {
      "cell_type": "code",
      "source": [
        "factura = ['pan', 'huevos', 100, 1234]\n",
        "factura"
      ],
      "metadata": {
        "colab": {
          "base_uri": "https://localhost:8080/"
        },
        "id": "p_qrlYOWZjrs",
        "outputId": "e051f00c-ee21-4626-e8a0-f017e3de9298"
      },
      "execution_count": null,
      "outputs": [
        {
          "output_type": "execute_result",
          "data": {
            "text/plain": [
              "['pan', 'huevos', 100, 1234]"
            ]
          },
          "metadata": {},
          "execution_count": 41
        }
      ]
    },
    {
      "cell_type": "code",
      "metadata": {
        "id": "Usc7QSsZyL9D",
        "outputId": "ac597bb7-11b6-40d6-938f-3c8884c2474e",
        "colab": {
          "base_uri": "https://localhost:8080/"
        }
      },
      "source": [
        "a = [1,2,3,\"hola\", [10, \"nunca\", 90], -32]\n",
        "print (a)\n",
        "print (len(a))"
      ],
      "execution_count": null,
      "outputs": [
        {
          "output_type": "stream",
          "name": "stdout",
          "text": [
            "[1, 2, 3, 'hola', [10, 'nunca', 90], -32]\n",
            "6\n"
          ]
        }
      ]
    },
    {
      "cell_type": "code",
      "metadata": {
        "id": "yKzQcUfPyL9H",
        "outputId": "ad6f8a99-8096-4e0f-c316-3a0095646bb8"
      },
      "source": [
        "for i in range(len(a)):\n",
        "    print (i, \"-->\", a[i])"
      ],
      "execution_count": null,
      "outputs": [
        {
          "output_type": "stream",
          "text": [
            "0 --> 1\n",
            "1 --> 2\n",
            "2 --> 3\n",
            "3 --> hola\n",
            "4 --> [10, 'nunca', 90]\n",
            "5 --> -32\n"
          ],
          "name": "stdout"
        }
      ]
    },
    {
      "cell_type": "code",
      "metadata": {
        "id": "i3UxQYaPyL9K",
        "outputId": "b642468b-be9b-4fb3-f021-30fb5d1bf723",
        "colab": {
          "base_uri": "https://localhost:8080/"
        }
      },
      "source": [
        "for i in a:\n",
        "    print (i)"
      ],
      "execution_count": null,
      "outputs": [
        {
          "output_type": "stream",
          "name": "stdout",
          "text": [
            "1\n",
            "2\n",
            "3\n",
            "hola\n",
            "[10, 'nunca', 90]\n",
            "-32\n"
          ]
        }
      ]
    },
    {
      "cell_type": "code",
      "metadata": {
        "id": "V8xgJTolyL9O",
        "outputId": "1fb39ccd-7240-4185-fed3-c5b9b36486a4"
      },
      "source": [
        "print (a[2:])\n",
        "print (a[-3:])\n",
        "print (a[4])"
      ],
      "execution_count": null,
      "outputs": [
        {
          "output_type": "stream",
          "text": [
            "[3, 'hola', [10, 'nunca', 90], -32]\n",
            "['hola', [10, 'nunca', 90], -32]\n",
            "[10, 'nunca', 90]\n"
          ],
          "name": "stdout"
        }
      ]
    },
    {
      "cell_type": "code",
      "metadata": {
        "id": "pTrS9-Z7yL9S",
        "outputId": "b6ea1615-643e-42c7-dcd8-f3ae488f4ca2"
      },
      "source": [
        "print(a[4][1])\n",
        "print(a[4][1:])"
      ],
      "execution_count": null,
      "outputs": [
        {
          "output_type": "stream",
          "text": [
            "nunca\n",
            "['nunca', 90]\n"
          ],
          "name": "stdout"
        }
      ]
    },
    {
      "cell_type": "code",
      "metadata": {
        "id": "7YQuTE4JyL9Y",
        "outputId": "8d114071-e302-41b2-8268-4ed4ada67e40",
        "colab": {
          "base_uri": "https://localhost:8080/"
        }
      },
      "source": [
        "print((a[3]))\n",
        "print((a[3][2:]))"
      ],
      "execution_count": null,
      "outputs": [
        {
          "output_type": "stream",
          "name": "stdout",
          "text": [
            "hola\n",
            "la\n"
          ]
        }
      ]
    },
    {
      "cell_type": "code",
      "metadata": {
        "id": "uyHMAAI3yL9b",
        "outputId": "17906f38-d138-4d93-f696-50f249c5d922",
        "colab": {
          "base_uri": "https://localhost:8080/"
        }
      },
      "source": [
        "print (a[5])\n",
        "#print (a[1][1:])"
      ],
      "execution_count": null,
      "outputs": [
        {
          "output_type": "stream",
          "name": "stdout",
          "text": [
            "-32\n"
          ]
        }
      ]
    },
    {
      "cell_type": "code",
      "metadata": {
        "id": "C6cVUpu5yL-0",
        "outputId": "ccecba81-f416-4e1f-e684-027d97dd9c8a",
        "colab": {
          "base_uri": "https://localhost:8080/"
        }
      },
      "source": [
        "a = [10, -4, 20, 5]\n",
        "\n",
        "o = [\"10A\", \"-4B\", \"20A\", \"5A\"]\n",
        "\n",
        "o = []\n",
        "for i in a:\n",
        "    if i<0:\n",
        "        o.append(str(i)+\"B\")\n",
        "    else:\n",
        "        o.append(str(i)+\"A\")\n",
        "\n",
        "print(o)"
      ],
      "execution_count": null,
      "outputs": [
        {
          "output_type": "stream",
          "name": "stdout",
          "text": [
            "['10A', '-4B', '20A', '5A']\n"
          ]
        }
      ]
    },
    {
      "cell_type": "code",
      "metadata": {
        "id": "PprTF-IzyL-3",
        "outputId": "6a9cf31f-d587-421f-bab7-4de5bd44a274"
      },
      "source": [
        "def convert(x):\n",
        "    return str(x)+\"B\" if x<0 else str(x)+\"A\"\n",
        "\n",
        "o = [convert(i) for i in a]\n",
        "print(o)"
      ],
      "execution_count": null,
      "outputs": [
        {
          "output_type": "stream",
          "text": [
            "['10A', '-4B', '20A', '5A']\n"
          ],
          "name": "stdout"
        }
      ]
    },
    {
      "cell_type": "code",
      "metadata": {
        "id": "UAUcEHvOyL-7",
        "outputId": "327967d2-181b-4c44-e36b-d70252198c63"
      },
      "source": [
        "r = []\n",
        "for i in range(10):\n",
        "    r.append(\"el numero \"+str(i))\n",
        "print(r)"
      ],
      "execution_count": null,
      "outputs": [
        {
          "output_type": "stream",
          "text": [
            "['el numero 0', 'el numero 1', 'el numero 2', 'el numero 3', 'el numero 4', 'el numero 5', 'el numero 6', 'el numero 7', 'el numero 8', 'el numero 9']\n"
          ],
          "name": "stdout"
        }
      ]
    },
    {
      "cell_type": "code",
      "metadata": {
        "id": "xEurwemQyL_C",
        "outputId": "ec056712-bbc3-401f-8234-0f3f20e1cb29"
      },
      "source": [
        "r = [\"el numero \"+str(i) for i in range(10)]\n",
        "print(r)"
      ],
      "execution_count": null,
      "outputs": [
        {
          "output_type": "stream",
          "text": [
            "['el numero 0', 'el numero 1', 'el numero 2', 'el numero 3', 'el numero 4', 'el numero 5', 'el numero 6', 'el numero 7', 'el numero 8', 'el numero 9']\n"
          ],
          "name": "stdout"
        }
      ]
    },
    {
      "cell_type": "markdown",
      "source": [
        "##**Tuplas**\n",
        "Son objetos de tipo secuencia, específicamente es un tipo de dato lista **inmutable**. Esta no puede modificarse de ningún modo después de su creación."
      ],
      "metadata": {
        "id": "t5iDmxctaLyl"
      }
    },
    {
      "cell_type": "code",
      "source": [
        "valores = (\"Python\", True, \"Zope\", 5)\n",
        "print(\"True ->\", valores.count(True))\n",
        "print(\"'Zope' ->\", valores.count('Zope'))\n",
        "print(\"5 ->\", valores.count(5))\n"
      ],
      "metadata": {
        "colab": {
          "base_uri": "https://localhost:8080/"
        },
        "id": "dbptNuz-aU20",
        "outputId": "027ddd02-ecb8-4746-f94e-100be388ac7f"
      },
      "execution_count": null,
      "outputs": [
        {
          "output_type": "stream",
          "name": "stdout",
          "text": [
            "True -> 1\n",
            "'Zope' -> 1\n",
            "5 -> 1\n"
          ]
        }
      ]
    },
    {
      "cell_type": "markdown",
      "metadata": {
        "id": "lv7RD_Z6yL-i"
      },
      "source": [
        "## **Diccionarios**\n",
        "\n",
        "El diccionario, define una relación uno a uno entre claves y valores."
      ]
    },
    {
      "cell_type": "code",
      "source": [
        "import numpy as np"
      ],
      "metadata": {
        "id": "-iDsTlLUE8Wo"
      },
      "execution_count": null,
      "outputs": []
    },
    {
      "cell_type": "code",
      "source": [
        "d = {\"i1\": 16, \"nombre\": \"haskel\", \"edad\": 32}"
      ],
      "metadata": {
        "id": "OZXQaOkFFQAV"
      },
      "execution_count": null,
      "outputs": []
    },
    {
      "cell_type": "code",
      "source": [
        "print(type(d))"
      ],
      "metadata": {
        "colab": {
          "base_uri": "https://localhost:8080/"
        },
        "id": "BsTjs9NYFYkb",
        "outputId": "eaebbd20-7b42-4f30-9a57-b077fa979cd9"
      },
      "execution_count": null,
      "outputs": [
        {
          "output_type": "stream",
          "name": "stdout",
          "text": [
            "<class 'dict'>\n"
          ]
        }
      ]
    },
    {
      "cell_type": "code",
      "source": [
        "print(d.items())"
      ],
      "metadata": {
        "colab": {
          "base_uri": "https://localhost:8080/"
        },
        "id": "0YoR33FFFex9",
        "outputId": "778969fd-5ea7-45d5-c098-5503853d61d3"
      },
      "execution_count": null,
      "outputs": [
        {
          "output_type": "stream",
          "name": "stdout",
          "text": [
            "dict_items([('i1', 16), ('nombre', 'haskel'), ('edad', 32)])\n"
          ]
        }
      ]
    },
    {
      "cell_type": "code",
      "source": [
        "print(d.keys())"
      ],
      "metadata": {
        "colab": {
          "base_uri": "https://localhost:8080/"
        },
        "id": "arnuD5kCFyCq",
        "outputId": "f17255fe-1409-40dc-a46e-0bd5253cfa06"
      },
      "execution_count": null,
      "outputs": [
        {
          "output_type": "stream",
          "name": "stdout",
          "text": [
            "dict_keys(['i1', 'nombre', 'edad'])\n"
          ]
        }
      ]
    },
    {
      "cell_type": "code",
      "source": [
        "print(d.values())"
      ],
      "metadata": {
        "colab": {
          "base_uri": "https://localhost:8080/"
        },
        "id": "3PZWA5bxF3ja",
        "outputId": "26586171-368a-4084-81ac-7f8a77bec148"
      },
      "execution_count": null,
      "outputs": [
        {
          "output_type": "stream",
          "name": "stdout",
          "text": [
            "dict_values([16, 'haskel', 32])\n"
          ]
        }
      ]
    },
    {
      "cell_type": "code",
      "metadata": {
        "id": "VHFP-zuQyL-l",
        "outputId": "36486088-1eaf-4322-bf63-7e251e3e99c0",
        "colab": {
          "base_uri": "https://localhost:8080/"
        }
      },
      "source": [
        "for i in list(d.keys()):\n",
        "    print(\"la clave\", i, \"tiene el valor\", d[i])"
      ],
      "execution_count": null,
      "outputs": [
        {
          "output_type": "stream",
          "name": "stdout",
          "text": [
            "la clave i1 tiene el valor 16\n",
            "la clave nombre tiene el valor haskel\n",
            "la clave edad tiene el valor 32\n"
          ]
        }
      ]
    },
    {
      "cell_type": "code",
      "source": [
        "print(d[\"nombre\"])"
      ],
      "metadata": {
        "colab": {
          "base_uri": "https://localhost:8080/"
        },
        "id": "srwwAcZUFUsU",
        "outputId": "d512fc53-f55d-4c32-af98-9eed3c746ba8"
      },
      "execution_count": null,
      "outputs": [
        {
          "output_type": "stream",
          "name": "stdout",
          "text": [
            "haskel\n"
          ]
        }
      ]
    },
    {
      "cell_type": "markdown",
      "source": [
        "Creacion de valores aleatorios"
      ],
      "metadata": {
        "id": "9q2LzKK_GFhF"
      }
    },
    {
      "cell_type": "code",
      "metadata": {
        "id": "24jjqr9oyL-j",
        "outputId": "6e98c94d-0c11-400f-a415-8689259d21c5",
        "colab": {
          "base_uri": "https://localhost:8080/"
        }
      },
      "source": [
        "r10 = list(range(10))\n",
        "rr  = np.random.randint(10, size=10)\n",
        "print(r10)\n",
        "print(rr)"
      ],
      "execution_count": null,
      "outputs": [
        {
          "output_type": "stream",
          "name": "stdout",
          "text": [
            "[0, 1, 2, 3, 4, 5, 6, 7, 8, 9]\n",
            "[1 8 9 1 5 3 8 3 9 0]\n"
          ]
        }
      ]
    },
    {
      "cell_type": "code",
      "source": [
        "matrizAleatoria = np.random.randint(10, size=(3,4))\n",
        "print(matrizAleatoria)"
      ],
      "metadata": {
        "colab": {
          "base_uri": "https://localhost:8080/"
        },
        "id": "lSkeLJyEFI5X",
        "outputId": "db956994-39e8-4259-91d9-eb3e29937a04"
      },
      "execution_count": null,
      "outputs": [
        {
          "output_type": "stream",
          "name": "stdout",
          "text": [
            "[[0 1 3 3]\n",
            " [7 5 3 6]\n",
            " [9 6 0 8]]\n"
          ]
        }
      ]
    },
    {
      "cell_type": "code",
      "source": [
        "matrizAleatoria[0,1]"
      ],
      "metadata": {
        "colab": {
          "base_uri": "https://localhost:8080/"
        },
        "id": "-g-9nYJuGbKS",
        "outputId": "0482ff8e-d3fe-4c45-e1a1-fcc5b3980d7b"
      },
      "execution_count": null,
      "outputs": [
        {
          "output_type": "execute_result",
          "data": {
            "text/plain": [
              "1"
            ]
          },
          "metadata": {},
          "execution_count": 22
        }
      ]
    },
    {
      "cell_type": "code",
      "source": [
        "print(matrizAleatoria.diagonal())"
      ],
      "metadata": {
        "colab": {
          "base_uri": "https://localhost:8080/"
        },
        "id": "WGypwavWGe5T",
        "outputId": "fa53920c-7224-42c7-d0e3-0b24e0018648"
      },
      "execution_count": null,
      "outputs": [
        {
          "output_type": "stream",
          "name": "stdout",
          "text": [
            "[0 5 0]\n"
          ]
        }
      ]
    },
    {
      "cell_type": "code",
      "metadata": {
        "id": "WxIGlFLnyL-p",
        "outputId": "fb568ea3-3950-41c2-8441-a03b9e1a9d11"
      },
      "source": [
        "for i in range(len(rr)):\n",
        "    print(\"el indice\", i, \"tiene el valor\", rr[i])"
      ],
      "execution_count": null,
      "outputs": [
        {
          "output_type": "stream",
          "text": [
            "el indice 0 tiene el valor 2\n",
            "el indice 1 tiene el valor 3\n",
            "el indice 2 tiene el valor 6\n",
            "el indice 3 tiene el valor 8\n",
            "el indice 4 tiene el valor 0\n",
            "el indice 5 tiene el valor 8\n",
            "el indice 6 tiene el valor 8\n",
            "el indice 7 tiene el valor 6\n",
            "el indice 8 tiene el valor 9\n",
            "el indice 9 tiene el valor 5\n"
          ],
          "name": "stdout"
        }
      ]
    },
    {
      "cell_type": "markdown",
      "metadata": {
        "id": "ZH-O1HgXyL-s"
      },
      "source": [
        "Los diccionarios son listas de asociaciones entre objetos (como _hashes_ en Java)"
      ]
    },
    {
      "cell_type": "code",
      "metadata": {
        "id": "o4NjsRqlyL-s",
        "outputId": "02d6c913-142e-4082-9006-420e44dbe51a",
        "colab": {
          "base_uri": "https://localhost:8080/"
        }
      },
      "source": [
        "d = {\"i1\": 16, \"nombre\": \"haskel\", \"edad\": 32}\n",
        "print(d)\n",
        "print(list(d.keys()))\n",
        "print(d[\"nombre\"], d[\"edad\"])\n",
        "for k in list(d.keys()):\n",
        "    print(d[k])"
      ],
      "execution_count": null,
      "outputs": [
        {
          "output_type": "stream",
          "name": "stdout",
          "text": [
            "{'i1': 16, 'nombre': 'haskel', 'edad': 32}\n",
            "['i1', 'nombre', 'edad']\n",
            "haskel 32\n",
            "16\n",
            "haskel\n",
            "32\n"
          ]
        }
      ]
    },
    {
      "cell_type": "code",
      "source": [
        "a=-1\n",
        "b = 2.55\n",
        "print(type(a))\n",
        "print(type(b))\n",
        "c=a+b\n",
        "type(c)\n",
        "c"
      ],
      "metadata": {
        "colab": {
          "base_uri": "https://localhost:8080/"
        },
        "id": "bXqbvz8kyroh",
        "outputId": "2730862b-6a5b-437b-8e35-cc93017fe37f"
      },
      "execution_count": null,
      "outputs": [
        {
          "output_type": "stream",
          "name": "stdout",
          "text": [
            "<class 'int'>\n",
            "<class 'float'>\n"
          ]
        },
        {
          "output_type": "execute_result",
          "data": {
            "text/plain": [
              "1.5499999999999998"
            ]
          },
          "metadata": {},
          "execution_count": 11
        }
      ]
    },
    {
      "cell_type": "code",
      "source": [
        "!python --version"
      ],
      "metadata": {
        "colab": {
          "base_uri": "https://localhost:8080/"
        },
        "id": "P9RYJ2ij1Aio",
        "outputId": "77967274-edd6-4bad-eec6-9b9379c36ea0"
      },
      "execution_count": null,
      "outputs": [
        {
          "output_type": "stream",
          "name": "stdout",
          "text": [
            "Python 3.10.12\n"
          ]
        }
      ]
    },
    {
      "cell_type": "code",
      "source": [
        "0b1101\n",
        "z =bin(13)\n",
        "a = 12\n",
        "a\n",
        "z"
      ],
      "metadata": {
        "id": "0J9-DLlO4ifE",
        "outputId": "9ba04836-f727-4774-8348-f36ca9883d3e",
        "colab": {
          "base_uri": "https://localhost:8080/",
          "height": 36
        }
      },
      "execution_count": null,
      "outputs": [
        {
          "output_type": "execute_result",
          "data": {
            "text/plain": [
              "'0b1101'"
            ],
            "application/vnd.google.colaboratory.intrinsic+json": {
              "type": "string"
            }
          },
          "metadata": {},
          "execution_count": 24
        }
      ]
    },
    {
      "cell_type": "markdown",
      "source": [
        "funcines"
      ],
      "metadata": {
        "id": "zO6O8gfhPoKA"
      }
    },
    {
      "cell_type": "code",
      "source": [
        "def sume(a,b):\n",
        "  suma= a+b\n",
        "  return suma"
      ],
      "metadata": {
        "id": "ZaaypAgQ4ln6"
      },
      "execution_count": null,
      "outputs": []
    },
    {
      "cell_type": "markdown",
      "source": [
        "funcion landa"
      ],
      "metadata": {
        "id": "uXr39M-fP1g-"
      }
    },
    {
      "cell_type": "code",
      "source": [
        "x = lambda a, b : a + b\n",
        "print(x(5, 6))"
      ],
      "metadata": {
        "colab": {
          "base_uri": "https://localhost:8080/"
        },
        "id": "raTXY7URP4Sm",
        "outputId": "cb08f576-5c89-49ba-f3d5-b85ff04b79dd"
      },
      "execution_count": null,
      "outputs": [
        {
          "output_type": "stream",
          "name": "stdout",
          "text": [
            "11\n"
          ]
        }
      ]
    },
    {
      "cell_type": "markdown",
      "source": [
        "Mapeo de funciones"
      ],
      "metadata": {
        "id": "qz--8b9ZQ9o6"
      }
    },
    {
      "cell_type": "code",
      "source": [
        "def double(a):\n",
        "  return a*2\n",
        "\n",
        "mi_lista = [1,2,3,4,5]\n",
        "mi_lista_doble = list(map(double, mi_lista))\n",
        "print(mi_lista_doble)"
      ],
      "metadata": {
        "colab": {
          "base_uri": "https://localhost:8080/"
        },
        "id": "cPl6Kl7CP_g_",
        "outputId": "819e61ae-0c1a-429b-908f-3ebfbaaf4710"
      },
      "execution_count": null,
      "outputs": [
        {
          "output_type": "stream",
          "name": "stdout",
          "text": [
            "[2, 4, 6, 8, 10]\n"
          ]
        }
      ]
    },
    {
      "cell_type": "code",
      "source": [
        "mi_lista = [1,2,3,4,5]\n",
        "mi_lista_doble = list(map(lambda x: x*2, mi_lista))\n",
        "print(mi_lista_doble)"
      ],
      "metadata": {
        "colab": {
          "base_uri": "https://localhost:8080/"
        },
        "id": "gH7QDGKPSOsQ",
        "outputId": "f6825150-a639-4845-af9c-87fa644163b9"
      },
      "execution_count": null,
      "outputs": [
        {
          "output_type": "stream",
          "name": "stdout",
          "text": [
            "[2, 4, 6, 8, 10]\n"
          ]
        }
      ]
    },
    {
      "cell_type": "code",
      "source": [
        "mi_lista = [18, -3, 5, 0, -1, 12]\n",
        "lista_nueva = list(filter(lambda x: x > 0, mi_lista))\n",
        "print(lista_nueva) # [18, 5, 12]"
      ],
      "metadata": {
        "colab": {
          "base_uri": "https://localhost:8080/"
        },
        "id": "EuXMKAeCVJRN",
        "outputId": "21b99e1a-0cfd-45d8-ce28-dcef9bdb0751"
      },
      "execution_count": null,
      "outputs": [
        {
          "output_type": "stream",
          "name": "stdout",
          "text": [
            "[18, 5, 12]\n"
          ]
        }
      ]
    },
    {
      "cell_type": "markdown",
      "source": [
        "Clases\n"
      ],
      "metadata": {
        "id": "w7FRPuBAWqty"
      }
    },
    {
      "cell_type": "code",
      "source": [
        "class Person:\n",
        "    def __init__(self, name, age):\n",
        "        self.name = name\n",
        "        self.age = age\n",
        "\n",
        "    def greet(self):\n",
        "        return f\"Hello, my name is {self.name} and I am {self.age} years old.\"\n",
        "\n",
        "# Uso de la clase\n",
        "p1 = Person(\"Andres\", 34)\n",
        "print(p1.greet())\n"
      ],
      "metadata": {
        "colab": {
          "base_uri": "https://localhost:8080/"
        },
        "id": "THn3jY-IWsYq",
        "outputId": "8cda213a-0835-4071-e318-4a7c37bd8d52"
      },
      "execution_count": null,
      "outputs": [
        {
          "output_type": "stream",
          "name": "stdout",
          "text": [
            "Hello, my name is Andres and I am 34 years old.\n"
          ]
        }
      ]
    },
    {
      "cell_type": "markdown",
      "source": [
        "clases con metodos y propiedades"
      ],
      "metadata": {
        "id": "wRKsFkUtX71h"
      }
    },
    {
      "cell_type": "markdown",
      "source": [
        "Herencias y propiedades"
      ],
      "metadata": {
        "id": "mugNN6gcQczq"
      }
    },
    {
      "cell_type": "code",
      "source": [
        "class Animal:\n",
        "    def __init__(self, name):\n",
        "        self.name = name\n",
        "\n",
        "    def make_sound(self):\n",
        "        return \"Some generic sound\"\n",
        "\n",
        "class Dog(Animal):\n",
        "    def make_sound(self):\n",
        "        return \"Woof woof!\"\n",
        "\n",
        "# Uso de las clases\n",
        "a = Animal(\"Unknown\")\n",
        "d = Dog(\"Buddy\")\n",
        "print(a.make_sound())  # Some generic sound\n",
        "print(d.make_sound())  # Woof woof!\n"
      ],
      "metadata": {
        "id": "3VRJZDQHYUF2"
      },
      "execution_count": null,
      "outputs": []
    }
  ]
}