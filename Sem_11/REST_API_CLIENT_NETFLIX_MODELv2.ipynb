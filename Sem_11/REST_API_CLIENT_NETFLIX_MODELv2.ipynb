{
  "cells": [
    {
      "cell_type": "code",
      "execution_count": 1,
      "metadata": {
        "id": "7ykrNx1s7Qo-",
        "outputId": "207e7bc4-6983-4ed9-8828-7052b14063ac",
        "colab": {
          "base_uri": "https://localhost:8080/"
        }
      },
      "outputs": [
        {
          "output_type": "stream",
          "name": "stdout",
          "text": [
            "200 {\"prediction\":\"[2.45025131e+08]\"}\n",
            "\n"
          ]
        }
      ],
      "source": [
        "import requests\n",
        "import json\n",
        "\n",
        "url = 'https://5a79-34-74-68-16.ngrok-free.app/predict'\n",
        "\n",
        "# Datos de ejemplo\n",
        "data = {\n",
        "    \"Open\": 262000000,\n",
        "    \"High\": 267899994,\n",
        "    \"Low\": 250029999,\n",
        "    \"Volume\": 11896100\n",
        "}\n",
        "\n",
        "# Configurar los headers\n",
        "headers = {'content-type': 'application/json', 'Accept-Charset': 'UTF-8'}\n",
        "\n",
        "# Enviar la solicitud POST\n",
        "r = requests.post(url, json=data, headers=headers)\n",
        "# Mostrar el resultado\n",
        "print(r.status_code, r.text)"
      ]
    },
    {
      "cell_type": "code",
      "source": [],
      "metadata": {
        "id": "uAgF3I7KnNUa"
      },
      "execution_count": null,
      "outputs": []
    }
  ],
  "metadata": {
    "kernelspec": {
      "display_name": ".venv",
      "language": "python",
      "name": "python3"
    },
    "language_info": {
      "codemirror_mode": {
        "name": "ipython",
        "version": 3
      },
      "file_extension": ".py",
      "mimetype": "text/x-python",
      "name": "python",
      "nbconvert_exporter": "python",
      "pygments_lexer": "ipython3",
      "version": "3.12.6"
    },
    "colab": {
      "provenance": []
    }
  },
  "nbformat": 4,
  "nbformat_minor": 0
}