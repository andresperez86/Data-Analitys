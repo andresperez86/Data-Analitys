{
 "cells": [
  {
   "cell_type": "markdown",
   "id": "f51b635c",
   "metadata": {},
   "source": [
    "# **Practicum 1: Ley de los Grandes Números**\n",
    "\n",
    "### Objetivo:\n",
    "Este notebook explora la **Ley de los Grandes Números (LGN)** a través de la distribución **exponencial**. Mostraremos cómo, al incrementar el número de observaciones, el promedio de los datos tiende al valor esperado de la distribución.\n",
    "\n",
    "### Conceptos Claves:\n",
    "1. **Distribución Exponencial**: Modela eventos que ocurren de manera continua e independiente con una tasa constante.\n",
    "2. **Ley de los Grandes Números**: A medida que aumentamos el número de muestras $ n $, la media muestral $ \\bar{X}_n $ se acerca a la esperanza matemática $ E[X] $.\n",
    "3. **Visualización**: Representaremos la convergencia del promedio con gráficos para facilitar la comprensión.\n",
    "\n",
    "---\n"
   ]
  },
  {
   "cell_type": "markdown",
   "id": "425fbb1c",
   "metadata": {},
   "source": [
    "## **1. Definición de la Distribución Exponencial**\n",
    "    \n",
    "La distribución exponencial está definida por un parámetro $ \\lambda $, que representa la tasa de ocurrencia del evento.\n",
    "\n",
    "- **Función de Densidad de Probabilidad (PDF)**:\n",
    "  $$\n",
    "  f_X(x) = \\lambda e^{-\\lambda x}, \\quad x \\geq 0\n",
    "  $$\n",
    "- **Función de Distribución Acumulada (CDF)**:\n",
    "  $$\n",
    "  F_X(x) = 1 - e^{-\\lambda x}\n",
    "  $$\n",
    "- **Esperanza y Varianza**:\n",
    "  $$\n",
    "  E[X] = \\frac{1}{\\lambda}, \\quad V[X] = \\frac{1}{\\lambda^2}\n",
    "  $$\n",
    "\n",
    "En este experimento, elegimos **$ \\lambda = 4 $**.\n",
    "\n",
    "---\n"
   ]
  },
  {
   "cell_type": "code",
   "execution_count": null,
   "id": "90b0e112",
   "metadata": {},
   "outputs": [],
   "source": [
    "import numpy as np\n",
    "import pandas as pd\n",
    "import matplotlib.pyplot as plt\n",
    "import scipy.stats as stats\n",
    "\n",
    "# Configuración para mejor visualización\n",
    "plt.style.use('ggplot')\n",
    "\n",
    "# Función de Densidad de Probabilidad (PDF)\n",
    "def exponential_pdf(lmbda, x):\n",
    "    return lmbda * np.exp(-lmbda * x)\n",
    "\n",
    "# Generar datos para graficar la PDF\n",
    "def exponential_grid(lmbda, x_min=0, x_max=2, step=0.01):\n",
    "    xs = np.arange(x_min, x_max + step, step)\n",
    "    ys = [exponential_pdf(lmbda, x) for x in xs]\n",
    "    return pd.DataFrame({'x': xs, 'y': ys})\n",
    "\n",
    "# Parámetro lambda\n",
    "lambda_ = 4\n"
   ]
  },
  {
   "cell_type": "code",
   "execution_count": null,
   "id": "337e9507",
   "metadata": {},
   "outputs": [],
   "source": [
    "# Graficar la función de densidad exponencial\n",
    "grid = exponential_grid(lambda_)\n",
    "\n",
    "plt.figure(figsize=(8,5))\n",
    "plt.plot(grid['x'], grid['y'], label=f'Exponencial(λ={lambda_})', linewidth=2)\n",
    "plt.xlabel('x')\n",
    "plt.ylabel('Densidad de Probabilidad')\n",
    "plt.title('Función de Densidad de la Distribución Exponencial')\n",
    "plt.legend()\n",
    "plt.show()\n"
   ]
  },
  {
   "cell_type": "markdown",
   "id": "7015571d",
   "metadata": {},
   "source": [
    "## **2. Ley de los Grandes Números en Acción**\n",
    "\n",
    "Vamos a generar $ n $ observaciones $ X_1, X_2, ..., X_n $ de una **distribución exponencial** y calcularemos su promedio acumulado:\n",
    "\n",
    "$$\n",
    "\\bar{X}_n = \\frac{1}{n} \\sum_{i=1}^{n} X_i\n",
    "$$\n",
    "\n",
    "A medida que $ n $ aumenta, $ \\bar{X}_n $ debería acercarse al valor esperado $ E[X] = 1/\\lambda $.\n",
    "\n",
    "---\n"
   ]
  },
  {
   "cell_type": "code",
   "execution_count": null,
   "id": "e6e18508",
   "metadata": {},
   "outputs": [],
   "source": [
    "# Generar muestras aleatorias de la distribución exponencial\n",
    "np.random.seed(42)\n",
    "n_max = 3000  # Número de muestras\n",
    "samples = np.random.exponential(scale=1/lambda_, size=n_max)\n",
    "\n",
    "# Calcular el promedio acumulado\n",
    "mean_values = np.cumsum(samples) / np.arange(1, n_max + 1)\n",
    "\n",
    "# Valor esperado teórico\n",
    "expected_value = 1 / lambda_\n",
    "\n",
    "# Graficar la convergencia de la media muestral\n",
    "plt.figure(figsize=(10, 5))\n",
    "plt.plot(mean_values, label='Media Muestral', linewidth=2)\n",
    "plt.axhline(y=expected_value, color='r', linestyle='--', label=f'Valor Esperado: {expected_value:.3f}')\n",
    "plt.xlabel('Número de Observaciones (n)')\n",
    "plt.ylabel('Promedio Acumulado')\n",
    "plt.title('Ley de los Grandes Números con Distribución Exponencial')\n",
    "plt.legend()\n",
    "plt.show()\n"
   ]
  },
  {
   "cell_type": "markdown",
   "id": "46cfbc02",
   "metadata": {},
   "source": [
    "## **3. Conclusión**\n",
    "    \n",
    "- Observamos que a medida que **n** aumenta, la media muestral **converge** al valor esperado teórico.\n",
    "- La **Ley de los Grandes Números** se cumple, confirmando que la estimación basada en muestras se aproxima a la verdadera media poblacional.\n",
    "- Esta propiedad es clave en estadística, aprendizaje automático y análisis de datos.\n",
    "\n",
    "---\n"
   ]
  }
 ],
 "metadata": {
  "language_info": {
   "name": "python"
  }
 },
 "nbformat": 4,
 "nbformat_minor": 5
}
